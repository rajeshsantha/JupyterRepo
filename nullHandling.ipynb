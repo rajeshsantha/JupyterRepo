{
 "cells": [
  {
   "cell_type": "code",
   "execution_count": 1,
   "id": "a173b751-c599-435f-87d9-8bd8ef94c859",
   "metadata": {},
   "outputs": [
    {
     "name": "stdout",
     "output_type": "stream",
     "text": [
      "Collecting spylon-kernel\n",
      "  Using cached spylon-kernel-0.4.1.tar.gz (33 kB)\n",
      "  Preparing metadata (setup.py) ... \u001b[?25lerror\n",
      "  \u001b[1;31merror\u001b[0m: \u001b[1msubprocess-exited-with-error\u001b[0m\n",
      "  \n",
      "  \u001b[31m×\u001b[0m \u001b[32mpython setup.py egg_info\u001b[0m did not run successfully.\n",
      "  \u001b[31m│\u001b[0m exit code: \u001b[1;36m1\u001b[0m\n",
      "  \u001b[31m╰─>\u001b[0m \u001b[31m[18 lines of output]\u001b[0m\n",
      "  \u001b[31m   \u001b[0m /private/var/folders/f9/837t71m55xg58400l87yxsgm0000gn/T/pip-install-e_4pn8sf/spylon-kernel_a9f321dbe6144120a23b7b404edadcd7/versioneer.py:418: SyntaxWarning: invalid escape sequence '\\s'\n",
      "  \u001b[31m   \u001b[0m   LONG_VERSION_PY['git'] = '''\n",
      "  \u001b[31m   \u001b[0m Traceback (most recent call last):\n",
      "  \u001b[31m   \u001b[0m   File \"<string>\", line 2, in <module>\n",
      "  \u001b[31m   \u001b[0m   File \"<pip-setuptools-caller>\", line 34, in <module>\n",
      "  \u001b[31m   \u001b[0m   File \"/private/var/folders/f9/837t71m55xg58400l87yxsgm0000gn/T/pip-install-e_4pn8sf/spylon-kernel_a9f321dbe6144120a23b7b404edadcd7/setup.py\", line 14, in <module>\n",
      "  \u001b[31m   \u001b[0m     version=versioneer.get_version(),\n",
      "  \u001b[31m   \u001b[0m             ^^^^^^^^^^^^^^^^^^^^^^^^\n",
      "  \u001b[31m   \u001b[0m   File \"/private/var/folders/f9/837t71m55xg58400l87yxsgm0000gn/T/pip-install-e_4pn8sf/spylon-kernel_a9f321dbe6144120a23b7b404edadcd7/versioneer.py\", line 1476, in get_version\n",
      "  \u001b[31m   \u001b[0m     return get_versions()[\"version\"]\n",
      "  \u001b[31m   \u001b[0m            ^^^^^^^^^^^^^^\n",
      "  \u001b[31m   \u001b[0m   File \"/private/var/folders/f9/837t71m55xg58400l87yxsgm0000gn/T/pip-install-e_4pn8sf/spylon-kernel_a9f321dbe6144120a23b7b404edadcd7/versioneer.py\", line 1408, in get_versions\n",
      "  \u001b[31m   \u001b[0m     cfg = get_config_from_root(root)\n",
      "  \u001b[31m   \u001b[0m           ^^^^^^^^^^^^^^^^^^^^^^^^^^\n",
      "  \u001b[31m   \u001b[0m   File \"/private/var/folders/f9/837t71m55xg58400l87yxsgm0000gn/T/pip-install-e_4pn8sf/spylon-kernel_a9f321dbe6144120a23b7b404edadcd7/versioneer.py\", line 342, in get_config_from_root\n",
      "  \u001b[31m   \u001b[0m     parser = configparser.SafeConfigParser()\n",
      "  \u001b[31m   \u001b[0m              ^^^^^^^^^^^^^^^^^^^^^^^^^^^^^\n",
      "  \u001b[31m   \u001b[0m AttributeError: module 'configparser' has no attribute 'SafeConfigParser'. Did you mean: 'RawConfigParser'?\n",
      "  \u001b[31m   \u001b[0m \u001b[31m[end of output]\u001b[0m\n",
      "  \n",
      "  \u001b[1;35mnote\u001b[0m: This error originates from a subprocess, and is likely not a problem with pip.\n",
      "\u001b[1;31merror\u001b[0m: \u001b[1mmetadata-generation-failed\u001b[0m\n",
      "\n",
      "\u001b[31m×\u001b[0m Encountered error while generating package metadata.\n",
      "\u001b[31m╰─>\u001b[0m See above for output.\n",
      "\n",
      "\u001b[1;35mnote\u001b[0m: This is an issue with the package mentioned above, not pip.\n",
      "\u001b[1;36mhint\u001b[0m: See above for details.\n",
      "\u001b[?25hNote: you may need to restart the kernel to use updated packages.\n"
     ]
    }
   ],
   "source": [
    "\n",
    "# Create a sample DataFrame with null values\n",
    "data = [\n",
    "    (1, \"Alice\", 29, \"New York\"),\n",
    "    (2, \"Bob\", None, \"San Francisco\"),\n",
    "    (3, None, 35, None),\n",
    "    (4, \"David\", None, \"Seattle\"),\n",
    "    (5, \"Eve\", 30, None)\n",
    "]\n",
    "\n",
    "columns = [\"id\", \"name\", \"age\", \"city\"]\n",
    "\n",
    "df = spark.createDataFrame(data, columns)\n",
    "\n",
    "# Show the original DataFrame\n",
    "print(\"Original DataFrame:\")\n",
    "df.show()\n",
    "\n",
    "# Drop rows with any null values\n",
    "df_drop_any = df.dropna()\n",
    "\n",
    "print(\"DataFrame after dropping rows with any null values:\")\n",
    "df_drop_any.show()\n",
    "\n",
    "# Drop rows with nulls in specific columns (e.g., \"age\" and \"city\")\n",
    "df_drop_specific = df.dropna(subset=[\"age\", \"city\"])\n",
    "\n",
    "print(\"DataFrame after dropping rows with nulls in specific columns (age, city):\")\n",
    "df_drop_specific.show()\n",
    "\n",
    "# Drop rows where all columns are null\n",
    "df_drop_all_nulls = df.dropna(how=\"all\")\n",
    "\n",
    "print(\"DataFrame after dropping rows where all columns are null:\")\n",
    "df_drop_all_nulls.show()"
   ]
  },
  {
   "cell_type": "code",
   "execution_count": 29,
   "id": "9b7d52f5-45a2-4706-aa9e-c2897fa0b3d4",
   "metadata": {},
   "outputs": [],
   "source": [
    "data = [\n",
    "    (1, \"Alice\", 29, \"New York\"),\n",
    "    (2, \"Bob\", None, \"San Francisco\"),\n",
    "    (3, None, 35, None),\n",
    "    (4, \"David\", None, \"Seattle\"),\n",
    "    (5, \"Eve\", 30, None),\n",
    "    (None, None, None, None)\n",
    "]\n",
    "\n",
    "columns = [\"id\", \"name\", \"age\", \"city\"]\n",
    "\n",
    "df = spark.createDataFrame(data, columns)\n"
   ]
  },
  {
   "cell_type": "code",
   "execution_count": 31,
   "id": "4efcc30b-3ac4-4f7c-a6e9-cede2247ae82",
   "metadata": {},
   "outputs": [
    {
     "name": "stdout",
     "output_type": "stream",
     "text": [
      "+----+-----+----+-------------+\n",
      "|  id| name| age|         city|\n",
      "+----+-----+----+-------------+\n",
      "|   1|Alice|  29|     New York|\n",
      "|   2|  Bob|NULL|San Francisco|\n",
      "|   3| NULL|  35|         NULL|\n",
      "|   4|David|NULL|      Seattle|\n",
      "|   5|  Eve|  30|         NULL|\n",
      "|NULL| NULL|NULL|         NULL|\n",
      "+----+-----+----+-------------+\n",
      "\n"
     ]
    }
   ],
   "source": [
    "df.show()"
   ]
  },
  {
   "cell_type": "code",
   "execution_count": 33,
   "id": "db9dfb03-5da0-49c5-9c8b-a6ea87effcd1",
   "metadata": {},
   "outputs": [
    {
     "name": "stdout",
     "output_type": "stream",
     "text": [
      "+---+-----+---+--------+\n",
      "| id| name|age|    city|\n",
      "+---+-----+---+--------+\n",
      "|  1|Alice| 29|New York|\n",
      "+---+-----+---+--------+\n",
      "\n"
     ]
    }
   ],
   "source": [
    "df.dropna().show()"
   ]
  },
  {
   "cell_type": "code",
   "execution_count": 35,
   "id": "effecb3b-0fa4-456b-918e-32f3f80e48e9",
   "metadata": {},
   "outputs": [
    {
     "name": "stdout",
     "output_type": "stream",
     "text": [
      "+---+-----+----+-------------+\n",
      "| id| name| age|         city|\n",
      "+---+-----+----+-------------+\n",
      "|  1|Alice|  29|     New York|\n",
      "|  2|  Bob|NULL|San Francisco|\n",
      "|  4|David|NULL|      Seattle|\n",
      "|  5|  Eve|  30|         NULL|\n",
      "+---+-----+----+-------------+\n",
      "\n"
     ]
    }
   ],
   "source": [
    "df.dropna(subset=[\"name\"]).show()"
   ]
  },
  {
   "cell_type": "code",
   "execution_count": 43,
   "id": "176a6300-23ac-4b98-86a7-7362ea2824f1",
   "metadata": {},
   "outputs": [
    {
     "name": "stdout",
     "output_type": "stream",
     "text": [
      "+---+-----+----+-------------+\n",
      "| id| name| age|         city|\n",
      "+---+-----+----+-------------+\n",
      "|  1|Alice|  29|     New York|\n",
      "|  2|  Bob|NULL|San Francisco|\n",
      "|  3| NULL|  35|         NULL|\n",
      "|  4|David|NULL|      Seattle|\n",
      "|  5|  Eve|  30|         NULL|\n",
      "+---+-----+----+-------------+\n",
      "\n"
     ]
    }
   ],
   "source": [
    "df.dropna(\"all\").show()"
   ]
  },
  {
   "cell_type": "code",
   "execution_count": 73,
   "id": "0ea22aa6-ccd2-4bdf-954a-65a06ccce1aa",
   "metadata": {},
   "outputs": [
    {
     "name": "stdout",
     "output_type": "stream",
     "text": [
      "+---+-----+---+-------------+\n",
      "| id| name|age|         city|\n",
      "+---+-----+---+-------------+\n",
      "|  1|Alice| 29|     New York|\n",
      "|  2|  Bob|  1|San Francisco|\n",
      "|  3|   NA| 35|           NA|\n",
      "|  4|David|  1|      Seattle|\n",
      "|  5|  Eve| 30|           NA|\n",
      "| -1|   NA|  1|           NA|\n",
      "+---+-----+---+-------------+\n",
      "\n"
     ]
    }
   ],
   "source": [
    "df.na.fill({\n",
    "\"age\":1.7,\n",
    "    \"name\":\"NA\",\n",
    "    \"city\":\"NA\",\n",
    "    \"id\":-1\n",
    "    \n",
    "    \n",
    "}).show()"
   ]
  },
  {
   "cell_type": "code",
   "execution_count": 79,
   "id": "219747fb-5b7c-488e-b173-4ff3e83b3ad1",
   "metadata": {},
   "outputs": [
    {
     "name": "stdout",
     "output_type": "stream",
     "text": [
      "+---+-----+---+-------------+\n",
      "| id| name|age|         city|\n",
      "+---+-----+---+-------------+\n",
      "|  1|Alice| 29|     New York|\n",
      "|  2|  Bob| 17|San Francisco|\n",
      "|  3|   NA| 35|           NA|\n",
      "|  4|David| 17|      Seattle|\n",
      "|  5|  Eve| 30|           NA|\n",
      "| 17|   NA| 17|           NA|\n",
      "+---+-----+---+-------------+\n",
      "\n"
     ]
    }
   ],
   "source": [
    "df.na.fill(17).na.fill(\"NA\").show()\n"
   ]
  },
  {
   "cell_type": "code",
   "execution_count": 139,
   "id": "3a1021e6-1caa-484e-9b6d-646c61818a02",
   "metadata": {},
   "outputs": [
    {
     "data": {
      "text/plain": [
       "['id_x', 'name_x', 'age_x', 'city_x']"
      ]
     },
     "execution_count": 139,
     "metadata": {},
     "output_type": "execute_result"
    }
   ],
   "source": [
    "oldcols = df.columns\n",
    "newcols = []\n",
    "\n",
    "for i in oldcols:\n",
    "    newcols.append(i+\"_x\")\n",
    "\n",
    "newcols"
   ]
  },
  {
   "cell_type": "code",
   "execution_count": 141,
   "id": "efd53cf5-6d4d-487d-a324-65364662ef53",
   "metadata": {},
   "outputs": [
    {
     "data": {
      "text/plain": [
       "['id_x', 'name_x', 'age_x', 'city_x']"
      ]
     },
     "execution_count": 141,
     "metadata": {},
     "output_type": "execute_result"
    }
   ],
   "source": [
    "\n",
    "\n",
    "[ f\"{i}_x\" for i in df.columns ]\n"
   ]
  }
 ],
 "metadata": {
  "kernelspec": {
   "display_name": "Python 3 (ipykernel)",
   "language": "python",
   "name": "python3"
  },
  "language_info": {
   "codemirror_mode": {
    "name": "ipython",
    "version": 3
   },
   "file_extension": ".py",
   "mimetype": "text/x-python",
   "name": "python",
   "nbconvert_exporter": "python",
   "pygments_lexer": "ipython3",
   "version": "3.12.4"
  }
 },
 "nbformat": 4,
 "nbformat_minor": 5
}
